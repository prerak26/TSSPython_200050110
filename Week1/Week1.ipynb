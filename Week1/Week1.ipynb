{
  "nbformat": 4,
  "nbformat_minor": 0,
  "metadata": {
    "colab": {
      "name": "Week1.ipynb",
      "provenance": [],
      "collapsed_sections": []
    },
    "kernelspec": {
      "display_name": "Python 3",
      "name": "python3"
    },
    "language_info": {
      "name": "python"
    }
  },
  "cells": [
    {
      "cell_type": "code",
      "metadata": {
        "colab": {
          "base_uri": "https://localhost:8080/"
        },
        "id": "luOsJ34cJHn3",
        "outputId": "ecbb47a3-8f09-4535-8f1d-63b11801caed"
      },
      "source": [
        "File = open(\"HarryPotterAndTheSorcerersStone.txt\",'r')\n",
        "\n",
        "DictionaryOfWords = {}         #Dictionary mapping every word to a list (of indices of the words' occurences)\n",
        "Novel = []                     #List of all words in the order, in which they appear!\n",
        "i = 0                   #Counter Variable to keep track of index of words\n",
        "\n",
        "for line in File.readlines():     \n",
        "    \n",
        "    line = line.replace(\".\",\"\").replace(\",\",\"\").replace('?','').replace('!','').replace('[','').replace(']','').replace('(','').replace(')','').replace('%','').replace('/','')\n",
        "    \n",
        "    for word in line.split(' '):                                                                  \n",
        "        if word in DictionaryOfWords.keys():     #If the word is already present in the dictionary                                            \n",
        "            DictionaryOfWords[word].append(i)        #Add the index into the pre-existing list for this word                                                                    \n",
        "        else:\n",
        "            DictionaryOfWords[word]=[i]        #Create a new list of indices for this word, with a single element\n",
        "\n",
        "        Novel.append(word)        #Add the Word in the Novel's ordered list of words                                                                    \n",
        "        i+=1\n",
        "    \n",
        "def GetQuery():\n",
        "   \n",
        "    word = input(\"Enter the word: \")       #Get Input from the user regarding what word s/he wants to query for\n",
        "\n",
        "    Number = int(input(\"Enter a number: \"))      #Get Input from the user regarding how many results the user wants to see\n",
        "\n",
        "    return (word,Number)                 #Return as output a tuple of the word and the Number of results\n",
        "\n",
        "\n",
        "def PrintContext(index):\n",
        "    \n",
        "    global Novel                          #Declares the list Novel as a Global Variable\n",
        "    \n",
        "    #COMPLETE THE CODE FROM HERE:\n",
        "    \n",
        "    for i in range(index-5,index+6) :           #Define the range so that the task above is fulfilled\n",
        "        \n",
        "        print(Novel[i], end = ' ')          #Print the word (using List Indexing) with a space after that\n",
        "        \n",
        "    print('\\n')\n",
        "\n",
        "\n",
        "def PrintResult(word, NumQuery):\n",
        "  \n",
        "    global DictionaryOfWords                #Allows us to use the Dictionary as a global variable\n",
        "    \n",
        "    #COMPLETE THE CODE FROM HERE:\n",
        "    \n",
        "    L = DictionaryOfWords[word] \n",
        "    \n",
        "    for i in range(0,min(len(L),NumQuery)):\n",
        "        \n",
        "        PrintContext(L[i])             #Actually print the words surrounding the ith occurence of the given word\n",
        "\n",
        "while 1>0 :   \n",
        "    \n",
        "    Choice = input('Press Y in order to Continue with the next query or N to end. Please press Enter after entering your choice!')\n",
        "    \n",
        "    #COMPLETE THE CODE FROM HERE:\n",
        "    \n",
        "    if Choice== 'Y':                     # If the user wants to query \n",
        "        hehe=tuple(GetQuery())\n",
        "        first=hehe[0]\n",
        "        second=hehe[1]\n",
        "        PrintResult(first,second)                        #Use some of the past defined function to do so\n",
        "        \n",
        "    else:\n",
        "        break                                 #Else end the loop"
      ],
      "execution_count": null,
      "outputs": [
        {
          "output_type": "stream",
          "text": [
            "Press Y in order to Continue with the next query or N to end. Please press Enter after entering your choice!Y\n",
            "Enter the word: anyone\n",
            "Enter a number: 2\n",
            "they could bear it if anyone found out about the\n",
            " Potters \n",
            "\n",
            "the cat watching him If anyone looked out\n",
            " of their window \n",
            "\n",
            "Press Y in order to Continue with the next query or N to end. Please press Enter after entering your choice!Y\n",
            "Enter the word: C\n",
            "Enter a number: 3\n",
            "* 4\n",
            " *\n",
            " \n",
            " \n",
            " C H A P I I \n",
            "\n",
            "* 4\n",
            " *\n",
            " \n",
            " \n",
            " C H A P I I \n",
            "\n",
            "* 4\n",
            " *\n",
            " \n",
            " \n",
            " C H A P I I \n",
            "\n",
            "Press Y in order to Continue with the next query or N to end. Please press Enter after entering your choice!Y\n"
          ],
          "name": "stdout"
        }
      ]
    }
  ]
}