{
  "nbformat": 4,
  "nbformat_minor": 0,
  "metadata": {
    "colab": {
      "name": "Week2.ipynb",
      "provenance": [],
      "collapsed_sections": []
    },
    "kernelspec": {
      "name": "python3",
      "display_name": "Python 3"
    },
    "language_info": {
      "name": "python"
    }
  },
  "cells": [
    {
      "cell_type": "code",
      "metadata": {
        "id": "GgQqUJAOJ5Be"
      },
      "source": [
        "#Importing Required Libraries\n",
        "import pandas as pd\n",
        "import numpy as np\n",
        "import datetime\n",
        "import matplotlib.pyplot as plt\n",
        "import seaborn as sns\n",
        "\n",
        "#Declaring the Hyperparameters\n",
        "\n",
        "N = 50\n",
        "T = 7\n",
        "R = 0.8\n",
        "M = 5\n",
        "F = 0.0005   # 0.5% Brokerage fee\n",
        "\n",
        "#after this get the csv file data in somehow\n",
        "\n",
        "def GetData(NameOfFile):\n",
        "  #START CODE HERE\n",
        "  df=pd.read_csv(NameOfFile)\n",
        "  return  pd.DataFrame(df.iloc[:,1:5])  # pd.DataFrame Object\n",
        "\n",
        "#\n",
        "def PartitionData(Data):\n",
        "  \n",
        "  DateToIndex = {}\n",
        "  thevalues =[]\n",
        "  for i in range(2926):  \n",
        "    thevalues.append(Data.iloc[[(30*i)+0,(30*i)+1,(30*i)+2,(30*i)+3,(30*i)+4,(30*i)+5,(30*i)+6,(30*i)+7,(30*i)+8,(30*i)+9,(30*i)+10,(30*i)+11,(30*i)+12,(30*i)+13,(30*i)+14,(30*i)+15,(30*i)+16,(30*i)+17,(30*i)+18,(30*i)+19,(30*i)+20,(30*i)+21,(30*i)+22,(30*i)+23,(30*i)+24,(30*i)+25,(30*i)+26,(30*i)+27,(30*i)+28,(30*i)+29]])\n",
        "    DateToIndex[str(Data.iloc[30*i][0])]=i\n",
        "  return  thevalues,DateToIndex    # List containing of the Data Partitioned according to Date, and the Dictionary mapping Dates to their index in the list\n",
        "\n",
        "#----------------------------------------------------------------#\n",
        "\n",
        "def GetMomentumBasedPriority(PartitionedDataFrameList, DateToIndex ,today):\n",
        "  # PartitionedDataFrameList : Pandas DataFrame, The Output of your last function\n",
        "  # DateToIndex : Dictionary mapping dates to their index in the PartitionedDataFrameList\n",
        "  # today :  Today's date (string) In Format: YYYYMMDD\n",
        "\n",
        "\n",
        "  #NdaysAgo is a datatime.date() object contining the required data, you need to convert it to a string and then check if its\n",
        "  #actually there in the Data you have or will you have to get going using some other nearest date\n",
        "\n",
        "  NdaysAgo = datetime.date(int(today[0:4]),int(today[4:6]),int(today[6:])) + datetime.timedelta(days = -N)\n",
        "  \n",
        "  #START CODE HERE!\n",
        "  arr=np.array()\n",
        "  \n",
        "  print(arr[0])\n",
        "  thevalues[0].loc[:,'adjcp']\n",
        "  for j in range (30):\n",
        "    sum=0\n",
        "    for i in range(startdateindex,len(PartitionedDataFrameList)):\n",
        "      sum+=int(PartitionedDataFrameList[i].loc[j,'adjcp'])\n",
        "    arr.np.append(sum)\n",
        "  \n",
        "\n",
        "\n",
        "\n",
        "\n",
        "\n",
        "\n",
        "\n",
        "  return ______________________________   #Numpy Array containing the Momentum divided by mean(in the N-day period considered) of all the 30 tickers, in the required order.\n",
        "\n",
        "#----------------------------------------------------------------#\n",
        "\n"
      ],
      "execution_count": 94,
      "outputs": []
    }
  ]
}